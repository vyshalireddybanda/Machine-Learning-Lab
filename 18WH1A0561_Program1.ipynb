{
 "cells": [
  {
   "cell_type": "code",
   "execution_count": 4,
   "metadata": {},
   "outputs": [
    {
     "name": "stdout",
     "output_type": "stream",
     "text": [
      "Probability that it is Friday and the student is absent :  0.03\n",
      "Probabilty that it is Friday :  0.2\n",
      "Probability that a student is absent given that today is Friday :  15.0\n"
     ]
    }
   ],
   "source": [
    "probabilityAbsentAndFriday = 0.03\n",
    "probabilityFriday = 0.2\n",
    "print(\"Probability that it is Friday and the student is absent : \",probabiltyAbsentAndFriday)\n",
    "print(\"Probabilty that it is Friday : \",probabilityFriday)\n",
    "#on applying bayes theorem\n",
    "bayesResult = (probabiltyAbsentAndFriday/probabiltyFriday)\n",
    "print(\"Probability that a student is absent given that today is Friday : \",bayesResult*100)\n"
   ]
  },
  {
   "cell_type": "code",
   "execution_count": null,
   "metadata": {},
   "outputs": [],
   "source": []
  }
 ],
 "metadata": {
  "kernelspec": {
   "display_name": "Python 3",
   "language": "python",
   "name": "python3"
  },
  "language_info": {
   "codemirror_mode": {
    "name": "ipython",
    "version": 3
   },
   "file_extension": ".py",
   "mimetype": "text/x-python",
   "name": "python",
   "nbconvert_exporter": "python",
   "pygments_lexer": "ipython3",
   "version": "3.8.5"
  }
 },
 "nbformat": 4,
 "nbformat_minor": 4
}
